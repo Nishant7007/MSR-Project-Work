{
 "cells": [
  {
   "cell_type": "code",
   "execution_count": 6,
   "metadata": {},
   "outputs": [],
   "source": [
    "import pickle\n",
    "predicted_list = []\n",
    "with open('act2415a.pkl', 'rb') as fr:\n",
    "    try:\n",
    "        while True:\n",
    "            predicted_list.append(pickle.load(fr))\n",
    "    except EOFError:\n",
    "        pass\n",
    "flat_predicted_list1 = [item for sublist in predicted_list for item in sublist]"
   ]
  },
  {
   "cell_type": "code",
   "execution_count": 7,
   "metadata": {},
   "outputs": [
    {
     "data": {
      "text/plain": [
       "2415"
      ]
     },
     "execution_count": 7,
     "metadata": {},
     "output_type": "execute_result"
    }
   ],
   "source": [
    "len(flat_predicted_list1)"
   ]
  },
  {
   "cell_type": "code",
   "execution_count": 8,
   "metadata": {},
   "outputs": [],
   "source": [
    "import pickle\n",
    "predicted_list = []\n",
    "with open('pred2415a.pkl', 'rb') as fr:\n",
    "    try:\n",
    "        while True:\n",
    "            predicted_list.append(pickle.load(fr))\n",
    "    except EOFError:\n",
    "        pass\n",
    "flat_predicted_list2 = [item for sublist in predicted_list for item in sublist]"
   ]
  },
  {
   "cell_type": "code",
   "execution_count": 9,
   "metadata": {},
   "outputs": [
    {
     "data": {
      "text/plain": [
       "2415"
      ]
     },
     "execution_count": 9,
     "metadata": {},
     "output_type": "execute_result"
    }
   ],
   "source": [
    "len(flat_predicted_list2)"
   ]
  },
  {
   "cell_type": "code",
   "execution_count": 10,
   "metadata": {},
   "outputs": [
    {
     "data": {
      "text/plain": [
       "[-0.9541044146837938,\n",
       " -0.9541044146837938,\n",
       " -0.8835850220866591,\n",
       " -0.9541044146837938,\n",
       " -0.9358216091956476,\n",
       " 1074.074074074074,\n",
       " 1100.0,\n",
       " 1100.0,\n",
       " 1100.0,\n",
       " 1100.0]"
      ]
     },
     "execution_count": 10,
     "metadata": {},
     "output_type": "execute_result"
    }
   ],
   "source": [
    "flat_predicted_list1[1990:2000]"
   ]
  },
  {
   "cell_type": "code",
   "execution_count": 11,
   "metadata": {},
   "outputs": [
    {
     "data": {
      "text/plain": [
       "[-0.9541044146837938,\n",
       " -0.9541044146837938,\n",
       " -0.8835850220866591,\n",
       " -0.9541044146837938,\n",
       " -0.9358216091956476,\n",
       " 1874.6495,\n",
       " 1831.5255,\n",
       " 2112.9424,\n",
       " 2348.11,\n",
       " 2170.2883]"
      ]
     },
     "execution_count": 11,
     "metadata": {},
     "output_type": "execute_result"
    }
   ],
   "source": [
    "flat_predicted_list2[1990:2000]"
   ]
  },
  {
   "cell_type": "code",
   "execution_count": null,
   "metadata": {},
   "outputs": [],
   "source": []
  }
 ],
 "metadata": {
  "kernelspec": {
   "display_name": "Python 3",
   "language": "python",
   "name": "python3"
  },
  "language_info": {
   "codemirror_mode": {
    "name": "ipython",
    "version": 3
   },
   "file_extension": ".py",
   "mimetype": "text/x-python",
   "name": "python",
   "nbconvert_exporter": "python",
   "pygments_lexer": "ipython3",
   "version": "3.7.3"
  }
 },
 "nbformat": 4,
 "nbformat_minor": 2
}
